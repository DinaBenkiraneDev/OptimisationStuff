{
 "cells": [
  {
   "cell_type": "code",
   "execution_count": 3,
   "metadata": {},
   "outputs": [],
   "source": []
  },
  {
   "cell_type": "code",
   "execution_count": 3,
   "metadata": {},
   "outputs": [],
   "source": [
    "#On charge les modules dont on a besoin\n",
    "using JuMP    #Pour la définition du modèle (variables, contraintes, fonction objectif, solveur à utiliser...)\n",
    "using CPLEX   #Pour la résolution du modèle\n",
    "using LinearAlgebra #Pour pouvoir utiliser des fonctions ou opérateurs de l'algèbre linéaire, comme la fonction"
   ]
  },
  {
   "cell_type": "code",
   "execution_count": 4,
   "metadata": {},
   "outputs": [],
   "source": [
    "#Quelles sont les données du problème?\n",
    "\n",
    "gravMin=[10,5,10]#gravier minimal pour les site de construction\n",
    "gravMax=[10,18] #gravier max disponible\n",
    "coutF1 = [130, 160, 150] #cout pour chaque site de F1\n",
    "coutF2 = [180, 150, 160] #cout pour chaque site de F2\n",
    ";"
   ]
  },
  {
   "cell_type": "code",
   "execution_count": 25,
   "metadata": {},
   "outputs": [
    {
     "data": {
      "text/latex": [
       "$$ \\begin{alignat*}{1}\\min\\quad & 130 x_{1} + 160 x_{2} + 150 x_{3} + 180 y_{1} + 150 y_{2} + 160 y_{3} + 50 v\\\\\n",
       "\\text{Subject to} \\quad & x_{1} integer\\\\\n",
       " & x_{2} integer\\\\\n",
       " & x_{3} integer\\\\\n",
       " & y_{1} integer\\\\\n",
       " & y_{2} integer\\\\\n",
       " & y_{3} integer\\\\\n",
       " & v integer\\\\\n",
       " & x_{1} \\geq 0.0\\\\\n",
       " & x_{2} \\geq 0.0\\\\\n",
       " & x_{3} \\geq 0.0\\\\\n",
       " & y_{1} \\geq 0.0\\\\\n",
       " & y_{2} \\geq 0.0\\\\\n",
       " & y_{3} \\geq 0.0\\\\\n",
       " & v \\geq 0.0\\\\\n",
       " & x_{1} + y_{1} \\geq 10.0\\\\\n",
       " & x_{2} + y_{2} \\geq 5.0\\\\\n",
       " & x_{3} + y_{3} \\geq 10.0\\\\\n",
       " & v \\geq 5.0\\\\\n",
       " & x_{1} + x_{2} + x_{3} \\leq 10.0\\\\\n",
       " & y_{1} + y_{2} + y_{3} \\leq 18.0\\\\\n",
       " & 0.2 x_{1} + 0.2 x_{2} + 0.2 x_{3} + 0.2 y_{1} + 0.2 y_{2} + 0.2 y_{3} - v \\leq 0.0\\\\\n",
       "\\end{alignat*}\n",
       " $$"
      ],
      "text/plain": [
       "A JuMP Model\n",
       "Minimization problem with:\n",
       "Variables: 7\n",
       "Objective function type: GenericAffExpr{Float64,VariableRef}\n",
       "`VariableRef`-in-`MathOptInterface.Integer`: 7 constraints\n",
       "`VariableRef`-in-`MathOptInterface.GreaterThan{Float64}`: 7 constraints\n",
       "`GenericAffExpr{Float64,VariableRef}`-in-`MathOptInterface.GreaterThan{Float64}`: 4 constraints\n",
       "`GenericAffExpr{Float64,VariableRef}`-in-`MathOptInterface.LessThan{Float64}`: 3 constraints\n",
       "Model mode: AUTOMATIC\n",
       "CachingOptimizer state: EMPTY_OPTIMIZER\n",
       "Solver name: CPLEX\n",
       "Names registered in the model: v, x, y"
      ]
     },
     "execution_count": 25,
     "metadata": {},
     "output_type": "execute_result"
    }
   ],
   "source": [
    "notreModeleNbsEntiers = Model(with_optimizer(CPLEX.Optimizer)) #on construit un modèle nommé notreModeleNbsEntiers\n",
    "#et on indique que le solveur à utiliser est CPLEX\n",
    "\n",
    "#On ajoute la variable x (un vecteur à 3 composants) au modèle notreModeleNbsEntiers.\n",
    "@variable(notreModeleNbsEntiers, x[1:3] >=0, Int ) #Fournisseur 1\n",
    "@variable(notreModeleNbsEntiers, y[1:3] >=0, Int ) #fournisseur 2\n",
    "@variable(notreModeleNbsEntiers, v >=0, Int )#camion\n",
    "\n",
    "@objective(notreModeleNbsEntiers, Min, dot(coutF1, x)+dot(coutF2,y) + 50*v)  #Fonction objectif\n",
    "\n",
    "#Les contraintes\n",
    "@constraint(notreModeleNbsEntiers, x[1]+y[1] >= gravMin[1])\n",
    "@constraint(notreModeleNbsEntiers, x[2]+y[2] >= gravMin[2]) \n",
    "@constraint(notreModeleNbsEntiers, x[3]+y[3] >= gravMin[3]) \n",
    "@constraint(notreModeleNbsEntiers, x[1]+x[2]+x[3] <= gravMax[1]) \n",
    "@constraint(notreModeleNbsEntiers, y[1]+y[2]+y[3] <= gravMax[2]) \n",
    "@constraint(notreModeleNbsEntiers, v >= 5) \n",
    "@constraint(notreModeleNbsEntiers, (x[1]+x[2]+x[3]+y[1]+y[2]+y[3])/5 <= v) \n",
    "\n",
    "notreModeleNbsEntiers #Le modèle sera affiché"
   ]
  },
  {
   "cell_type": "code",
   "execution_count": 26,
   "metadata": {},
   "outputs": [
    {
     "name": "stdout",
     "output_type": "stream",
     "text": [
      "Tried aggregator 2 times.\r\n",
      "MIP Presolve eliminated 1 rows and 0 columns.\r\n",
      "MIP Presolve modified 1 coefficients.\r\n",
      "Aggregator did 2 substitutions.\r\n",
      "Reduced MIP has 4 rows, 5 columns, and 11 nonzeros.\r\n",
      "Reduced MIP has 0 binaries, 5 generals, 0 SOSs, and 0 indicators.\r\n",
      "Presolve time = 0.00 sec. (0.02 ticks)\r\n",
      "Found incumbent of value 3900.000000 after 0.00 sec. (0.03 ticks)\r\n",
      "Tried aggregator 2 times.\r\n",
      "MIP Presolve eliminated 3 rows and 4 columns.\r\n",
      "MIP Presolve modified 3 coefficients.\r\n",
      "Aggregator did 1 substitutions.\r\n",
      "All rows and columns eliminated.\r\n",
      "Presolve time = 0.00 sec. (0.01 ticks)\r\n",
      "\r\n",
      "Root node processing (before b&c):\r\n",
      "  Real time             =    0.00 sec. (0.04 ticks)\r\n",
      "Parallel b&c, 4 threads:\r\n",
      "  Real time             =    0.00 sec. (0.00 ticks)\r\n",
      "  Sync time (average)   =    0.00 sec.\r\n",
      "  Wait time (average)   =    0.00 sec.\r\n",
      "                          ------------\r\n",
      "Total (root+branch&cut) =    0.00 sec. (0.04 ticks)\r\n"
     ]
    }
   ],
   "source": [
    "optimize!(notreModeleNbsEntiers) #On demande au solveur de résoudre le modèle"
   ]
  },
  {
   "cell_type": "code",
   "execution_count": 27,
   "metadata": {},
   "outputs": [
    {
     "data": {
      "text/plain": [
       "OPTIMAL::TerminationStatusCode = 1"
      ]
     },
     "execution_count": 27,
     "metadata": {},
     "output_type": "execute_result"
    }
   ],
   "source": [
    "termination_status(notreModeleNbsEntiers) #Pour savoir pourquoi l'optimisation a fini "
   ]
  },
  {
   "cell_type": "code",
   "execution_count": 28,
   "metadata": {},
   "outputs": [
    {
     "name": "stdout",
     "output_type": "stream",
     "text": [
      "Solution: [10.0, 0.0, 0.0][0.0, 5.0, 10.0]5.0\n",
      "Valeur optimale: 3900.0\n"
     ]
    }
   ],
   "source": [
    "#Pour les valeurs des variables\n",
    "println(\"Solution: \", value.(x),value.(y), value.(v))\n",
    "#Afficher la valeur optimale (la valeur de la fonction objectif)\n",
    "println(\"Valeur optimale: \", objective_value(notreModeleNbsEntiers))"
   ]
  },
  {
   "cell_type": "code",
   "execution_count": null,
   "metadata": {},
   "outputs": [],
   "source": []
  }
 ],
 "metadata": {
  "anaconda-cloud": {},
  "kernelspec": {
   "display_name": "Julia 1.2.0",
   "language": "julia",
   "name": "julia-1.2"
  },
  "language_info": {
   "file_extension": ".jl",
   "mimetype": "application/julia",
   "name": "julia",
   "version": "1.2.0"
  }
 },
 "nbformat": 4,
 "nbformat_minor": 1
}
