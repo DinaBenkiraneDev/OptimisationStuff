{
 "cells": [
  {
   "cell_type": "code",
   "execution_count": 1,
   "metadata": {},
   "outputs": [],
   "source": [
    "#Auteur: Khalid Amghar.\n",
    "\n",
    "#Exemple du cours: California Mfg"
   ]
  },
  {
   "cell_type": "code",
   "execution_count": 2,
   "metadata": {},
   "outputs": [],
   "source": [
    "#On charge les modules dont on a besoin\n",
    "using JuMP    #Pour la définition du modèle (variables, contraintes, fonction objectif, solveur à utiliser...)\n",
    "using CPLEX   #Pour la résolution du modèle\n",
    "using LinearAlgebra #Pour pouvoir utiliser des fonctions ou opérateurs de l'algèbre linéaire, comme la fonction\n",
    "#dot() qui effectue le produit scalaire"
   ]
  },
  {
   "cell_type": "code",
   "execution_count": 3,
   "metadata": {},
   "outputs": [],
   "source": [
    "#On a 4 installations:\n",
    "#1. Usine à LA\n",
    "#2. Usine à SF\n",
    "#3. Entrepôt à LA\n",
    "#4. Entrepôt à SF\n",
    "\n",
    "#Quelles sont les données du problème?\n",
    "valeurEstimee = [9, 5, 6, 4] #La valeur estimée de: l'usine à LA, l'usine à SF, l'entrepôt à LA et l'entrepôt à SF (respectivement)\n",
    "coutConst = [6, 3, 5, 2] #Le coût de construction de: l'usine à LA, l'usine à SF, l'entrepôt à LA et l'entrepôt à SF (resp.)\n",
    "limiteMax = 10 #Le budget maximal alloué à la construction des installations\n",
    "nbEntrepotsMax = 1 #Le nombre maximal des entrepôts à construire\n",
    ";"
   ]
  },
  {
   "cell_type": "code",
   "execution_count": 4,
   "metadata": {},
   "outputs": [
    {
     "name": "stdout",
     "output_type": "stream",
     "text": [
      "Max 9 x[1] + 5 x[2] + 6 x[3] + 4 x[4]\n",
      "Subject to\n",
      " x[1] binary\n",
      " x[2] binary\n",
      " x[3] binary\n",
      " x[4] binary\n",
      " 6 x[1] + 3 x[2] + 5 x[3] + 2 x[4] <= 10.0\n",
      " x[3] + x[4] <= 1.0\n",
      " x[3] - x[1] <= 0.0\n",
      " x[4] - x[2] <= 0.0\n",
      "\n"
     ]
    },
    {
     "data": {
      "text/latex": [
       "$$ \\begin{alignat*}{1}\\max\\quad & 9 x_{1} + 5 x_{2} + 6 x_{3} + 4 x_{4}\\\\\n",
       "\\text{Subject to} \\quad & x_{1} binary\\\\\n",
       " & x_{2} binary\\\\\n",
       " & x_{3} binary\\\\\n",
       " & x_{4} binary\\\\\n",
       " & 6 x_{1} + 3 x_{2} + 5 x_{3} + 2 x_{4} \\leq 10.0\\\\\n",
       " & x_{3} + x_{4} \\leq 1.0\\\\\n",
       " & x_{3} - x_{1} \\leq 0.0\\\\\n",
       " & x_{4} - x_{2} \\leq 0.0\\\\\n",
       "\\end{alignat*}\n",
       " $$"
      ],
      "text/plain": [
       "A JuMP Model\n",
       "Maximization problem with:\n",
       "Variables: 4\n",
       "Objective function type: GenericAffExpr{Float64,VariableRef}\n",
       "`VariableRef`-in-`MathOptInterface.ZeroOne`: 4 constraints\n",
       "`GenericAffExpr{Float64,VariableRef}`-in-`MathOptInterface.LessThan{Float64}`: 4 constraints\n",
       "Model mode: AUTOMATIC\n",
       "CachingOptimizer state: EMPTY_OPTIMIZER\n",
       "Solver name: CPLEX\n",
       "Names registered in the model: budgetMax, contingLA, contingSF, limNbEntrepots, x"
      ]
     },
     "execution_count": 4,
     "metadata": {},
     "output_type": "execute_result"
    }
   ],
   "source": [
    "notreModeleBin = Model(with_optimizer(CPLEX.Optimizer)) #On construit un modèle nommé notreModeleBin\n",
    "#et on indique que le solveur à utiliser est CPLEX\n",
    "\n",
    "#On ajoute la variable x (un vecteur à 4 composants) au modèle notreModeleBin\n",
    "@variable(notreModeleBin, x[1:4], Bin ) #On impose que les variables soient binaires (0 ou 1)\n",
    "\n",
    "@objective(notreModeleBin, Max, dot(valeurEstimee, x))  #Fonction objectif de notreModeleBin\n",
    "\n",
    "#Les contraintes\n",
    "@constraint(notreModeleBin, budgetMax, dot(coutConst, x) <= limiteMax)\n",
    "@constraint(notreModeleBin, limNbEntrepots, x[3] + x[4] <= nbEntrepotsMax)\n",
    "@constraint(notreModeleBin, contingLA, x[3] <= x[1]) #On ne peut avoir un entrepôt à LA que si l'on a une usine à LA\n",
    "@constraint(notreModeleBin, contingSF, x[4] <= x[2]) #On ne peut avoir un entrepôt à SF que si l'on a une usine à SF\n",
    "\n",
    "println(notreModeleBin) #Afficher le modèle\n",
    "notreModeleBin\n"
   ]
  },
  {
   "cell_type": "code",
   "execution_count": 5,
   "metadata": {},
   "outputs": [
    {
     "name": "stdout",
     "output_type": "stream",
     "text": [
      "Found incumbent of value 0.000000 after 0.00 sec. (0.00 ticks)\r\n",
      "Tried aggregator 1 time.\r\n",
      "MIP Presolve eliminated 4 rows and 4 columns.\r\n",
      "MIP Presolve modified 8 coefficients.\r\n",
      "All rows and columns eliminated.\r\n",
      "Presolve time = 0.00 sec. (0.01 ticks)\r\n",
      "\r\n",
      "Root node processing (before b&c):\r\n",
      "  Real time             =    0.00 sec. (0.01 ticks)\r\n",
      "Parallel b&c, 8 threads:\r\n",
      "  Real time             =    0.00 sec. (0.00 ticks)\r\n",
      "  Sync time (average)   =    0.00 sec.\r\n",
      "  Wait time (average)   =    0.00 sec.\r\n",
      "                          ------------\r\n",
      "Total (root+branch&cut) =    0.00 sec. (0.01 ticks)\r\n"
     ]
    }
   ],
   "source": [
    "optimize!(notreModeleBin) #On demande au solveur de résoudre le modèle"
   ]
  },
  {
   "cell_type": "code",
   "execution_count": 6,
   "metadata": {},
   "outputs": [
    {
     "data": {
      "text/plain": [
       "OPTIMAL::TerminationStatusCode = 1"
      ]
     },
     "execution_count": 6,
     "metadata": {},
     "output_type": "execute_result"
    }
   ],
   "source": [
    "termination_status(notreModeleBin) #Pour savoir pourquoi l'optimisation a fini "
   ]
  },
  {
   "cell_type": "code",
   "execution_count": 7,
   "metadata": {},
   "outputs": [
    {
     "name": "stdout",
     "output_type": "stream",
     "text": [
      "Solution x: [1.0, 1.0, 0.0, 0.0]\n"
     ]
    }
   ],
   "source": [
    "#Pour les valeurs des variables\n",
    "println(\"Solution x: \", value.(x))"
   ]
  },
  {
   "cell_type": "code",
   "execution_count": 8,
   "metadata": {},
   "outputs": [
    {
     "name": "stdout",
     "output_type": "stream",
     "text": [
      "Valeur estimée totale: 14.0\n"
     ]
    }
   ],
   "source": [
    "println(\"Valeur estimée totale: \", objective_value(notreModeleBin)) #Récupérer la valeur optimale (la valeur de la fonction objectif)"
   ]
  },
  {
   "cell_type": "code",
   "execution_count": 9,
   "metadata": {},
   "outputs": [
    {
     "name": "stdout",
     "output_type": "stream",
     "text": [
      "La solution est:\n",
      "Construire une usine à LA\n",
      "Construire une usine à SF\n"
     ]
    }
   ],
   "source": [
    "#Pour avoir une solution plus lisible\n",
    "println(\"La solution est:\")\n",
    "if value(x[1]) > 0.5\n",
    "    println(\"Construire une usine à LA\")\n",
    "end\n",
    "\n",
    "if value(x[2]) > 0.5\n",
    "    println(\"Construire une usine à SF\")\n",
    "end\n",
    "\n",
    "if value(x[3]) > 0.5\n",
    "    println(\"Construire un entrepôt à LA\")\n",
    "end\n",
    "\n",
    "if value(x[4]) > 0.5\n",
    "    println(\"Construire un entrepôt à SF\")\n",
    "end\n"
   ]
  },
  {
   "cell_type": "code",
   "execution_count": null,
   "metadata": {},
   "outputs": [],
   "source": []
  }
 ],
 "metadata": {
  "anaconda-cloud": {},
  "kernelspec": {
   "display_name": "Julia 1.1.1",
   "language": "julia",
   "name": "julia-1.1"
  },
  "language_info": {
   "file_extension": ".jl",
   "mimetype": "application/julia",
   "name": "julia",
   "version": "1.1.1"
  }
 },
 "nbformat": 4,
 "nbformat_minor": 1
}
